{
 "cells": [
  {
   "cell_type": "code",
   "execution_count": 1,
   "metadata": {},
   "outputs": [],
   "source": [
    "# Importing required modules\n",
    "import tweepy\n",
    "import pandas as pd\n",
    "from textblob import TextBlob\n",
    "import re\n",
    "import matplotlib.pyplot as plt"
   ]
  },
  {
   "cell_type": "code",
   "execution_count": 2,
   "metadata": {},
   "outputs": [],
   "source": [
    "# twitter app tokens and secrect tokens wich will be changed genetate your own\n",
    "auth = tweepy.OAuthHandler('wd222WXy7THr8nazBIU0jiTTw', 'WXY3DcJxf9qyECjP7sx5RkC8AZraFJz2nF18JY3goyrg62vVLs')\n",
    "auth.set_access_token('4749906512-z5KVHoLZk5NnSzGPKQ2fIuHmkqZe0sOs0AEoE8W', 'd728FjOCcduY7oNAJEaBaGkibMZIhJXGxSPoVYKyjAgfu')\n",
    "api = tweepy.API(auth)"
   ]
  },
  {
   "cell_type": "code",
   "execution_count": 3,
   "metadata": {},
   "outputs": [],
   "source": [
    "# get all tweets (convert iterators to iterables)\n",
    "tweets = list()\n",
    "for tweet in tweepy.Cursor(api.user_timeline, id=\"RONBupdates\", rpp=500, lang=\"en\").items(500):\n",
    "# for tweet in tweepy.Cursor(api.search, q='#blm', rpp=100, lang=\"en\").items(100):\n",
    "    tweets.append(tweet)"
   ]
  },
  {
   "cell_type": "code",
   "execution_count": 4,
   "metadata": {},
   "outputs": [
    {
     "data": {
      "text/html": [
       "<div>\n",
       "<style scoped>\n",
       "    .dataframe tbody tr th:only-of-type {\n",
       "        vertical-align: middle;\n",
       "    }\n",
       "\n",
       "    .dataframe tbody tr th {\n",
       "        vertical-align: top;\n",
       "    }\n",
       "\n",
       "    .dataframe thead th {\n",
       "        text-align: right;\n",
       "    }\n",
       "</style>\n",
       "<table border=\"1\" class=\"dataframe\">\n",
       "  <thead>\n",
       "    <tr style=\"text-align: right;\">\n",
       "      <th></th>\n",
       "      <th>Tweets</th>\n",
       "      <th>Retweets</th>\n",
       "      <th>Likes</th>\n",
       "    </tr>\n",
       "  </thead>\n",
       "  <tbody>\n",
       "    <tr>\n",
       "      <th>0</th>\n",
       "      <td>New Case Alert: 38 new COVID-19 cases confirme...</td>\n",
       "      <td>12</td>\n",
       "      <td>228</td>\n",
       "    </tr>\n",
       "    <tr>\n",
       "      <th>1</th>\n",
       "      <td>Nyaano Swaagat is doing a great job. Kudos to ...</td>\n",
       "      <td>0</td>\n",
       "      <td>35</td>\n",
       "    </tr>\n",
       "    <tr>\n",
       "      <th>2</th>\n",
       "      <td>A meeting of the High Level Coordinating Commi...</td>\n",
       "      <td>1</td>\n",
       "      <td>150</td>\n",
       "    </tr>\n",
       "    <tr>\n",
       "      <th>3</th>\n",
       "      <td>सुदूरपश्चिममा स्वाब सङ्कलन स्थगित: Swab collec...</td>\n",
       "      <td>0</td>\n",
       "      <td>104</td>\n",
       "    </tr>\n",
       "    <tr>\n",
       "      <th>4</th>\n",
       "      <td>View of Pokhara valley from Statue of Prithvi ...</td>\n",
       "      <td>18</td>\n",
       "      <td>407</td>\n",
       "    </tr>\n",
       "  </tbody>\n",
       "</table>\n",
       "</div>"
      ],
      "text/plain": [
       "                                              Tweets  Retweets  Likes\n",
       "0  New Case Alert: 38 new COVID-19 cases confirme...        12    228\n",
       "1  Nyaano Swaagat is doing a great job. Kudos to ...         0     35\n",
       "2  A meeting of the High Level Coordinating Commi...         1    150\n",
       "3  सुदूरपश्चिममा स्वाब सङ्कलन स्थगित: Swab collec...         0    104\n",
       "4  View of Pokhara valley from Statue of Prithvi ...        18    407"
      ]
     },
     "execution_count": 4,
     "metadata": {},
     "output_type": "execute_result"
    }
   ],
   "source": [
    "# Get required informations from the tweets\n",
    "df = pd.DataFrame([tweet.text for tweet in tweets], columns=['Tweets'])\n",
    "df['Retweets'] = [tweet.retweet_count for tweet in tweets]\n",
    "df['Likes'] = [tweet.favorite_count for tweet in tweets]\n",
    "df.head()"
   ]
  },
  {
   "cell_type": "code",
   "execution_count": 5,
   "metadata": {},
   "outputs": [],
   "source": [
    "# remove unwanted text\n",
    "def removeUnwanted(text):\n",
    "    text = re.sub(r'@[A-Za-z0-9]+', '', text)\n",
    "    text = re.sub(r'#', '', text)\n",
    "    text = re.sub(r'RT\\s+:', '', text)\n",
    "    text = re.sub(r'\\n+', '', text)\n",
    "    text = re.sub(r'https?\\/\\/\\S+', '', text)\n",
    "    return text"
   ]
  },
  {
   "cell_type": "code",
   "execution_count": 6,
   "metadata": {},
   "outputs": [
    {
     "data": {
      "text/html": [
       "<div>\n",
       "<style scoped>\n",
       "    .dataframe tbody tr th:only-of-type {\n",
       "        vertical-align: middle;\n",
       "    }\n",
       "\n",
       "    .dataframe tbody tr th {\n",
       "        vertical-align: top;\n",
       "    }\n",
       "\n",
       "    .dataframe thead th {\n",
       "        text-align: right;\n",
       "    }\n",
       "</style>\n",
       "<table border=\"1\" class=\"dataframe\">\n",
       "  <thead>\n",
       "    <tr style=\"text-align: right;\">\n",
       "      <th></th>\n",
       "      <th>Tweets</th>\n",
       "      <th>Retweets</th>\n",
       "      <th>Likes</th>\n",
       "    </tr>\n",
       "  </thead>\n",
       "  <tbody>\n",
       "    <tr>\n",
       "      <th>0</th>\n",
       "      <td>New Case Alert: 38 new COVID-19 cases confirme...</td>\n",
       "      <td>12</td>\n",
       "      <td>228</td>\n",
       "    </tr>\n",
       "    <tr>\n",
       "      <th>1</th>\n",
       "      <td>Nyaano Swaagat is doing a great job. Kudos to ...</td>\n",
       "      <td>0</td>\n",
       "      <td>35</td>\n",
       "    </tr>\n",
       "    <tr>\n",
       "      <th>2</th>\n",
       "      <td>A meeting of the High Level Coordinating Commi...</td>\n",
       "      <td>1</td>\n",
       "      <td>150</td>\n",
       "    </tr>\n",
       "    <tr>\n",
       "      <th>3</th>\n",
       "      <td>सुदूरपश्चिममा स्वाब सङ्कलन स्थगित: Swab collec...</td>\n",
       "      <td>0</td>\n",
       "      <td>104</td>\n",
       "    </tr>\n",
       "    <tr>\n",
       "      <th>4</th>\n",
       "      <td>View of Pokhara valley from Statue of Prithvi ...</td>\n",
       "      <td>18</td>\n",
       "      <td>407</td>\n",
       "    </tr>\n",
       "  </tbody>\n",
       "</table>\n",
       "</div>"
      ],
      "text/plain": [
       "                                              Tweets  Retweets  Likes\n",
       "0  New Case Alert: 38 new COVID-19 cases confirme...        12    228\n",
       "1  Nyaano Swaagat is doing a great job. Kudos to ...         0     35\n",
       "2  A meeting of the High Level Coordinating Commi...         1    150\n",
       "3  सुदूरपश्चिममा स्वाब सङ्कलन स्थगित: Swab collec...         0    104\n",
       "4  View of Pokhara valley from Statue of Prithvi ...        18    407"
      ]
     },
     "execution_count": 6,
     "metadata": {},
     "output_type": "execute_result"
    }
   ],
   "source": [
    "df['Tweets'] = df['Tweets'].apply(removeUnwanted)\n",
    "df.head()"
   ]
  },
  {
   "cell_type": "code",
   "execution_count": 7,
   "metadata": {},
   "outputs": [],
   "source": [
    "# get subjectivity and polarity of the text\n",
    "def getSubjectivity(text):\n",
    "    return TextBlob(text).sentiment.subjectivity\n",
    "\n",
    "def getPolarity(text):\n",
    "    return TextBlob(text).sentiment.polarity"
   ]
  },
  {
   "cell_type": "code",
   "execution_count": 8,
   "metadata": {},
   "outputs": [
    {
     "data": {
      "text/html": [
       "<div>\n",
       "<style scoped>\n",
       "    .dataframe tbody tr th:only-of-type {\n",
       "        vertical-align: middle;\n",
       "    }\n",
       "\n",
       "    .dataframe tbody tr th {\n",
       "        vertical-align: top;\n",
       "    }\n",
       "\n",
       "    .dataframe thead th {\n",
       "        text-align: right;\n",
       "    }\n",
       "</style>\n",
       "<table border=\"1\" class=\"dataframe\">\n",
       "  <thead>\n",
       "    <tr style=\"text-align: right;\">\n",
       "      <th></th>\n",
       "      <th>Tweets</th>\n",
       "      <th>Retweets</th>\n",
       "      <th>Likes</th>\n",
       "      <th>Subjectivity</th>\n",
       "      <th>Polarity</th>\n",
       "    </tr>\n",
       "  </thead>\n",
       "  <tbody>\n",
       "    <tr>\n",
       "      <th>0</th>\n",
       "      <td>New Case Alert: 38 new COVID-19 cases confirme...</td>\n",
       "      <td>12</td>\n",
       "      <td>228</td>\n",
       "      <td>0.636364</td>\n",
       "      <td>0.224242</td>\n",
       "    </tr>\n",
       "    <tr>\n",
       "      <th>1</th>\n",
       "      <td>Nyaano Swaagat is doing a great job. Kudos to ...</td>\n",
       "      <td>0</td>\n",
       "      <td>35</td>\n",
       "      <td>0.575000</td>\n",
       "      <td>0.500000</td>\n",
       "    </tr>\n",
       "    <tr>\n",
       "      <th>2</th>\n",
       "      <td>A meeting of the High Level Coordinating Commi...</td>\n",
       "      <td>1</td>\n",
       "      <td>150</td>\n",
       "      <td>0.540000</td>\n",
       "      <td>0.160000</td>\n",
       "    </tr>\n",
       "    <tr>\n",
       "      <th>3</th>\n",
       "      <td>सुदूरपश्चिममा स्वाब सङ्कलन स्थगित: Swab collec...</td>\n",
       "      <td>0</td>\n",
       "      <td>104</td>\n",
       "      <td>0.000000</td>\n",
       "      <td>0.000000</td>\n",
       "    </tr>\n",
       "    <tr>\n",
       "      <th>4</th>\n",
       "      <td>View of Pokhara valley from Statue of Prithvi ...</td>\n",
       "      <td>18</td>\n",
       "      <td>407</td>\n",
       "      <td>0.000000</td>\n",
       "      <td>0.000000</td>\n",
       "    </tr>\n",
       "  </tbody>\n",
       "</table>\n",
       "</div>"
      ],
      "text/plain": [
       "                                              Tweets  Retweets  Likes  \\\n",
       "0  New Case Alert: 38 new COVID-19 cases confirme...        12    228   \n",
       "1  Nyaano Swaagat is doing a great job. Kudos to ...         0     35   \n",
       "2  A meeting of the High Level Coordinating Commi...         1    150   \n",
       "3  सुदूरपश्चिममा स्वाब सङ्कलन स्थगित: Swab collec...         0    104   \n",
       "4  View of Pokhara valley from Statue of Prithvi ...        18    407   \n",
       "\n",
       "   Subjectivity  Polarity  \n",
       "0      0.636364  0.224242  \n",
       "1      0.575000  0.500000  \n",
       "2      0.540000  0.160000  \n",
       "3      0.000000  0.000000  \n",
       "4      0.000000  0.000000  "
      ]
     },
     "execution_count": 8,
     "metadata": {},
     "output_type": "execute_result"
    }
   ],
   "source": [
    "df['Subjectivity'] = df['Tweets'].apply(getSubjectivity)\n",
    "df['Polarity'] = df['Tweets'].apply(getPolarity)\n",
    "df.head()"
   ]
  },
  {
   "cell_type": "code",
   "execution_count": 9,
   "metadata": {},
   "outputs": [],
   "source": [
    "# get data in user readable form\n",
    "def analysis(val):\n",
    "    if val > 0:\n",
    "        return 'Positive'\n",
    "    elif val < 0:\n",
    "        return 'Negative'\n",
    "    else:\n",
    "        return 'Neutral'"
   ]
  },
  {
   "cell_type": "code",
   "execution_count": 10,
   "metadata": {},
   "outputs": [
    {
     "data": {
      "text/html": [
       "<div>\n",
       "<style scoped>\n",
       "    .dataframe tbody tr th:only-of-type {\n",
       "        vertical-align: middle;\n",
       "    }\n",
       "\n",
       "    .dataframe tbody tr th {\n",
       "        vertical-align: top;\n",
       "    }\n",
       "\n",
       "    .dataframe thead th {\n",
       "        text-align: right;\n",
       "    }\n",
       "</style>\n",
       "<table border=\"1\" class=\"dataframe\">\n",
       "  <thead>\n",
       "    <tr style=\"text-align: right;\">\n",
       "      <th></th>\n",
       "      <th>Tweets</th>\n",
       "      <th>Retweets</th>\n",
       "      <th>Likes</th>\n",
       "      <th>Subjectivity</th>\n",
       "      <th>Polarity</th>\n",
       "      <th>Analysis</th>\n",
       "    </tr>\n",
       "  </thead>\n",
       "  <tbody>\n",
       "    <tr>\n",
       "      <th>0</th>\n",
       "      <td>New Case Alert: 38 new COVID-19 cases confirme...</td>\n",
       "      <td>12</td>\n",
       "      <td>228</td>\n",
       "      <td>0.636364</td>\n",
       "      <td>0.224242</td>\n",
       "      <td>Positive</td>\n",
       "    </tr>\n",
       "    <tr>\n",
       "      <th>1</th>\n",
       "      <td>Nyaano Swaagat is doing a great job. Kudos to ...</td>\n",
       "      <td>0</td>\n",
       "      <td>35</td>\n",
       "      <td>0.575000</td>\n",
       "      <td>0.500000</td>\n",
       "      <td>Positive</td>\n",
       "    </tr>\n",
       "    <tr>\n",
       "      <th>2</th>\n",
       "      <td>A meeting of the High Level Coordinating Commi...</td>\n",
       "      <td>1</td>\n",
       "      <td>150</td>\n",
       "      <td>0.540000</td>\n",
       "      <td>0.160000</td>\n",
       "      <td>Positive</td>\n",
       "    </tr>\n",
       "    <tr>\n",
       "      <th>3</th>\n",
       "      <td>सुदूरपश्चिममा स्वाब सङ्कलन स्थगित: Swab collec...</td>\n",
       "      <td>0</td>\n",
       "      <td>104</td>\n",
       "      <td>0.000000</td>\n",
       "      <td>0.000000</td>\n",
       "      <td>Neutral</td>\n",
       "    </tr>\n",
       "    <tr>\n",
       "      <th>4</th>\n",
       "      <td>View of Pokhara valley from Statue of Prithvi ...</td>\n",
       "      <td>18</td>\n",
       "      <td>407</td>\n",
       "      <td>0.000000</td>\n",
       "      <td>0.000000</td>\n",
       "      <td>Neutral</td>\n",
       "    </tr>\n",
       "  </tbody>\n",
       "</table>\n",
       "</div>"
      ],
      "text/plain": [
       "                                              Tweets  Retweets  Likes  \\\n",
       "0  New Case Alert: 38 new COVID-19 cases confirme...        12    228   \n",
       "1  Nyaano Swaagat is doing a great job. Kudos to ...         0     35   \n",
       "2  A meeting of the High Level Coordinating Commi...         1    150   \n",
       "3  सुदूरपश्चिममा स्वाब सङ्कलन स्थगित: Swab collec...         0    104   \n",
       "4  View of Pokhara valley from Statue of Prithvi ...        18    407   \n",
       "\n",
       "   Subjectivity  Polarity  Analysis  \n",
       "0      0.636364  0.224242  Positive  \n",
       "1      0.575000  0.500000  Positive  \n",
       "2      0.540000  0.160000  Positive  \n",
       "3      0.000000  0.000000   Neutral  \n",
       "4      0.000000  0.000000   Neutral  "
      ]
     },
     "execution_count": 10,
     "metadata": {},
     "output_type": "execute_result"
    }
   ],
   "source": [
    "df['Analysis'] = df['Polarity'].apply(analysis)\n",
    "df.head()"
   ]
  },
  {
   "cell_type": "code",
   "execution_count": 11,
   "metadata": {},
   "outputs": [
    {
     "data": {
      "text/html": [
       "<div>\n",
       "<style scoped>\n",
       "    .dataframe tbody tr th:only-of-type {\n",
       "        vertical-align: middle;\n",
       "    }\n",
       "\n",
       "    .dataframe tbody tr th {\n",
       "        vertical-align: top;\n",
       "    }\n",
       "\n",
       "    .dataframe thead th {\n",
       "        text-align: right;\n",
       "    }\n",
       "</style>\n",
       "<table border=\"1\" class=\"dataframe\">\n",
       "  <thead>\n",
       "    <tr style=\"text-align: right;\">\n",
       "      <th></th>\n",
       "      <th>Tweets</th>\n",
       "      <th>Retweets</th>\n",
       "      <th>Likes</th>\n",
       "      <th>Subjectivity</th>\n",
       "      <th>Polarity</th>\n",
       "      <th>Analysis</th>\n",
       "    </tr>\n",
       "  </thead>\n",
       "  <tbody>\n",
       "    <tr>\n",
       "      <th>0</th>\n",
       "      <td>New Case Alert: 38 new COVID-19 cases confirme...</td>\n",
       "      <td>12</td>\n",
       "      <td>228</td>\n",
       "      <td>0.636364</td>\n",
       "      <td>0.224242</td>\n",
       "      <td>Positive</td>\n",
       "    </tr>\n",
       "    <tr>\n",
       "      <th>1</th>\n",
       "      <td>Nyaano Swaagat is doing a great job. Kudos to ...</td>\n",
       "      <td>0</td>\n",
       "      <td>35</td>\n",
       "      <td>0.575000</td>\n",
       "      <td>0.500000</td>\n",
       "      <td>Positive</td>\n",
       "    </tr>\n",
       "    <tr>\n",
       "      <th>2</th>\n",
       "      <td>A meeting of the High Level Coordinating Commi...</td>\n",
       "      <td>1</td>\n",
       "      <td>150</td>\n",
       "      <td>0.540000</td>\n",
       "      <td>0.160000</td>\n",
       "      <td>Positive</td>\n",
       "    </tr>\n",
       "    <tr>\n",
       "      <th>6</th>\n",
       "      <td>12th and 13th death due to COVID-19 in Nepal: ...</td>\n",
       "      <td>8</td>\n",
       "      <td>266</td>\n",
       "      <td>0.193750</td>\n",
       "      <td>0.018750</td>\n",
       "      <td>Positive</td>\n",
       "    </tr>\n",
       "    <tr>\n",
       "      <th>7</th>\n",
       "      <td>New Case Alert: 323 new COVID-19 cases confirm...</td>\n",
       "      <td>28</td>\n",
       "      <td>568</td>\n",
       "      <td>0.731818</td>\n",
       "      <td>0.214545</td>\n",
       "      <td>Positive</td>\n",
       "    </tr>\n",
       "  </tbody>\n",
       "</table>\n",
       "</div>"
      ],
      "text/plain": [
       "                                              Tweets  Retweets  Likes  \\\n",
       "0  New Case Alert: 38 new COVID-19 cases confirme...        12    228   \n",
       "1  Nyaano Swaagat is doing a great job. Kudos to ...         0     35   \n",
       "2  A meeting of the High Level Coordinating Commi...         1    150   \n",
       "6  12th and 13th death due to COVID-19 in Nepal: ...         8    266   \n",
       "7  New Case Alert: 323 new COVID-19 cases confirm...        28    568   \n",
       "\n",
       "   Subjectivity  Polarity  Analysis  \n",
       "0      0.636364  0.224242  Positive  \n",
       "1      0.575000  0.500000  Positive  \n",
       "2      0.540000  0.160000  Positive  \n",
       "6      0.193750  0.018750  Positive  \n",
       "7      0.731818  0.214545  Positive  "
      ]
     },
     "execution_count": 11,
     "metadata": {},
     "output_type": "execute_result"
    }
   ],
   "source": [
    "# separate positive tweets\n",
    "ptweets = df[df.Analysis == 'Positive']\n",
    "ptweets.head()"
   ]
  },
  {
   "cell_type": "code",
   "execution_count": 12,
   "metadata": {},
   "outputs": [
    {
     "data": {
      "text/html": [
       "<div>\n",
       "<style scoped>\n",
       "    .dataframe tbody tr th:only-of-type {\n",
       "        vertical-align: middle;\n",
       "    }\n",
       "\n",
       "    .dataframe tbody tr th {\n",
       "        vertical-align: top;\n",
       "    }\n",
       "\n",
       "    .dataframe thead th {\n",
       "        text-align: right;\n",
       "    }\n",
       "</style>\n",
       "<table border=\"1\" class=\"dataframe\">\n",
       "  <thead>\n",
       "    <tr style=\"text-align: right;\">\n",
       "      <th></th>\n",
       "      <th>Tweets</th>\n",
       "      <th>Retweets</th>\n",
       "      <th>Likes</th>\n",
       "      <th>Subjectivity</th>\n",
       "      <th>Polarity</th>\n",
       "      <th>Analysis</th>\n",
       "    </tr>\n",
       "  </thead>\n",
       "  <tbody>\n",
       "    <tr>\n",
       "      <th>13</th>\n",
       "      <td>There are currently 2568 COVID-19 active cases...</td>\n",
       "      <td>7</td>\n",
       "      <td>300</td>\n",
       "      <td>0.50000</td>\n",
       "      <td>-0.066667</td>\n",
       "      <td>Negative</td>\n",
       "    </tr>\n",
       "    <tr>\n",
       "      <th>17</th>\n",
       "      <td>11th death due to COVID-19: A  male from Surkh...</td>\n",
       "      <td>14</td>\n",
       "      <td>398</td>\n",
       "      <td>0.21875</td>\n",
       "      <td>-0.106250</td>\n",
       "      <td>Negative</td>\n",
       "    </tr>\n",
       "    <tr>\n",
       "      <th>22</th>\n",
       "      <td>There are currently 2334 COVID-19 active cases...</td>\n",
       "      <td>6</td>\n",
       "      <td>231</td>\n",
       "      <td>0.50000</td>\n",
       "      <td>-0.066667</td>\n",
       "      <td>Negative</td>\n",
       "    </tr>\n",
       "    <tr>\n",
       "      <th>28</th>\n",
       "      <td>10th Death Due to COVID-19 in Nepal: A 45 year...</td>\n",
       "      <td>7</td>\n",
       "      <td>133</td>\n",
       "      <td>0.16875</td>\n",
       "      <td>-0.006250</td>\n",
       "      <td>Negative</td>\n",
       "    </tr>\n",
       "    <tr>\n",
       "      <th>33</th>\n",
       "      <td>There are currently 2013 COVID-19 active cases...</td>\n",
       "      <td>6</td>\n",
       "      <td>331</td>\n",
       "      <td>0.50000</td>\n",
       "      <td>-0.066667</td>\n",
       "      <td>Negative</td>\n",
       "    </tr>\n",
       "  </tbody>\n",
       "</table>\n",
       "</div>"
      ],
      "text/plain": [
       "                                               Tweets  Retweets  Likes  \\\n",
       "13  There are currently 2568 COVID-19 active cases...         7    300   \n",
       "17  11th death due to COVID-19: A  male from Surkh...        14    398   \n",
       "22  There are currently 2334 COVID-19 active cases...         6    231   \n",
       "28  10th Death Due to COVID-19 in Nepal: A 45 year...         7    133   \n",
       "33  There are currently 2013 COVID-19 active cases...         6    331   \n",
       "\n",
       "    Subjectivity  Polarity  Analysis  \n",
       "13       0.50000 -0.066667  Negative  \n",
       "17       0.21875 -0.106250  Negative  \n",
       "22       0.50000 -0.066667  Negative  \n",
       "28       0.16875 -0.006250  Negative  \n",
       "33       0.50000 -0.066667  Negative  "
      ]
     },
     "execution_count": 12,
     "metadata": {},
     "output_type": "execute_result"
    }
   ],
   "source": [
    "# separate negative tweets\n",
    "ntweets = df[df.Analysis == \"Negative\"]\n",
    "ntweets.head()"
   ]
  },
  {
   "cell_type": "code",
   "execution_count": 13,
   "metadata": {},
   "outputs": [
    {
     "data": {
      "text/html": [
       "<div>\n",
       "<style scoped>\n",
       "    .dataframe tbody tr th:only-of-type {\n",
       "        vertical-align: middle;\n",
       "    }\n",
       "\n",
       "    .dataframe tbody tr th {\n",
       "        vertical-align: top;\n",
       "    }\n",
       "\n",
       "    .dataframe thead th {\n",
       "        text-align: right;\n",
       "    }\n",
       "</style>\n",
       "<table border=\"1\" class=\"dataframe\">\n",
       "  <thead>\n",
       "    <tr style=\"text-align: right;\">\n",
       "      <th></th>\n",
       "      <th>Tweets</th>\n",
       "      <th>Retweets</th>\n",
       "      <th>Likes</th>\n",
       "      <th>Subjectivity</th>\n",
       "      <th>Polarity</th>\n",
       "      <th>Analysis</th>\n",
       "    </tr>\n",
       "  </thead>\n",
       "  <tbody>\n",
       "    <tr>\n",
       "      <th>3</th>\n",
       "      <td>सुदूरपश्चिममा स्वाब सङ्कलन स्थगित: Swab collec...</td>\n",
       "      <td>0</td>\n",
       "      <td>104</td>\n",
       "      <td>0.000000</td>\n",
       "      <td>0.0</td>\n",
       "      <td>Neutral</td>\n",
       "    </tr>\n",
       "    <tr>\n",
       "      <th>4</th>\n",
       "      <td>View of Pokhara valley from Statue of Prithvi ...</td>\n",
       "      <td>18</td>\n",
       "      <td>407</td>\n",
       "      <td>0.000000</td>\n",
       "      <td>0.0</td>\n",
       "      <td>Neutral</td>\n",
       "    </tr>\n",
       "    <tr>\n",
       "      <th>5</th>\n",
       "      <td>Male had Asthma and Female had Kidney Problems.</td>\n",
       "      <td>2</td>\n",
       "      <td>144</td>\n",
       "      <td>0.133333</td>\n",
       "      <td>0.0</td>\n",
       "      <td>Neutral</td>\n",
       "    </tr>\n",
       "    <tr>\n",
       "      <th>8</th>\n",
       "      <td>Beauty of Monsoon in Terathum, Nepal: वर्षा लग...</td>\n",
       "      <td>7</td>\n",
       "      <td>237</td>\n",
       "      <td>0.000000</td>\n",
       "      <td>0.0</td>\n",
       "      <td>Neutral</td>\n",
       "    </tr>\n",
       "    <tr>\n",
       "      <th>9</th>\n",
       "      <td>Recent PCR reports of 22 COVID-19 patients of ...</td>\n",
       "      <td>3</td>\n",
       "      <td>156</td>\n",
       "      <td>0.250000</td>\n",
       "      <td>0.0</td>\n",
       "      <td>Neutral</td>\n",
       "    </tr>\n",
       "  </tbody>\n",
       "</table>\n",
       "</div>"
      ],
      "text/plain": [
       "                                              Tweets  Retweets  Likes  \\\n",
       "3  सुदूरपश्चिममा स्वाब सङ्कलन स्थगित: Swab collec...         0    104   \n",
       "4  View of Pokhara valley from Statue of Prithvi ...        18    407   \n",
       "5    Male had Asthma and Female had Kidney Problems.         2    144   \n",
       "8  Beauty of Monsoon in Terathum, Nepal: वर्षा लग...         7    237   \n",
       "9  Recent PCR reports of 22 COVID-19 patients of ...         3    156   \n",
       "\n",
       "   Subjectivity  Polarity Analysis  \n",
       "3      0.000000       0.0  Neutral  \n",
       "4      0.000000       0.0  Neutral  \n",
       "5      0.133333       0.0  Neutral  \n",
       "8      0.000000       0.0  Neutral  \n",
       "9      0.250000       0.0  Neutral  "
      ]
     },
     "execution_count": 13,
     "metadata": {},
     "output_type": "execute_result"
    }
   ],
   "source": [
    "# separate neutral tweets\n",
    "netweets = df[df.Analysis == \"Neutral\"]\n",
    "netweets.head()"
   ]
  },
  {
   "cell_type": "code",
   "execution_count": 14,
   "metadata": {},
   "outputs": [
    {
     "data": {
      "text/plain": [
       "Text(0.5, 1.0, 'Tweets Positivity')"
      ]
     },
     "execution_count": 14,
     "metadata": {},
     "output_type": "execute_result"
    },
    {
     "data": {
      "image/png": "[encoded data removed]",
      "text/plain": [
       "<Figure size 432x288 with 1 Axes>"
      ]
     },
     "metadata": {},
     "output_type": "display_data"
    }
   ],
   "source": [
    "# get scatter plot of tweets\n",
    "plt.style.use('Solarize_Light2')\n",
    "plt.scatter(ptweets.Polarity, ptweets.Subjectivity)\n",
    "plt.scatter(ntweets.Polarity, ntweets.Subjectivity)\n",
    "plt.scatter(netweets.Polarity, netweets.Subjectivity)\n",
    "plt.xlabel('Polarity')\n",
    "plt.ylabel('Subjectivity')\n",
    "plt.title('Tweets Positivity')"
   ]
  },
  {
   "cell_type": "code",
   "execution_count": 15,
   "metadata": {},
   "outputs": [
    {
     "data": {
      "text/plain": [
       "Text(0.5, 1.0, 'Tweet type count')"
      ]
     },
     "execution_count": 15,
     "metadata": {},
     "output_type": "execute_result"
    },
    {
     "data": {
      "image/png": "[encoded data removed]",
      "text/plain": [
       "<Figure size 432x288 with 1 Axes>"
      ]
     },
     "metadata": {},
     "output_type": "display_data"
    }
   ],
   "source": [
    "# show numbers in bar\n",
    "df['Analysis'].value_counts().plot(kind='bar')\n",
    "plt.xlabel('Sentiments')\n",
    "plt.ylabel('Count')\n",
    "plt.title('Tweet type count')"
   ]
  },
  {
   "cell_type": "code",
   "execution_count": 16,
   "metadata": {},
   "outputs": [
    {
     "data": {
      "text/plain": [
       "Text(0.5, 1.0, 'Likes retweet count on types of post')"
      ]
     },
     "execution_count": 16,
     "metadata": {},
     "output_type": "execute_result"
    },
    {
     "data": {
      "image/png": "[encoded data removed]",
      "text/plain": [
       "<Figure size 432x288 with 1 Axes>"
      ]
     },
     "metadata": {},
     "output_type": "display_data"
    }
   ],
   "source": [
    "# display how much are positive or negative tweets are liked and retwitted\n",
    "p = ptweets['Likes'].sum()\n",
    "n = ntweets['Likes'].sum()\n",
    "ne = netweets['Likes'].sum()\n",
    "pr = ptweets['Retweets'].sum()\n",
    "nr = ntweets['Retweets'].sum()\n",
    "ner = netweets['Retweets'].sum()\n",
    "plt.bar(['p', 'n', 'ne'], [p, n, ne])\n",
    "plt.bar(['pr', 'nr', 'ner'], [pr, nr, ner])\n",
    "plt.xlabel('Status')\n",
    "plt.ylabel('Counts')\n",
    "plt.title('Likes retweet count on types of post')"
   ]
  },
  {
   "cell_type": "code",
   "execution_count": 17,
   "metadata": {},
   "outputs": [
    {
     "data": {
      "text/plain": [
       "<matplotlib.axes._subplots.AxesSubplot at 0x20cf1a4c700>"
      ]
     },
     "execution_count": 17,
     "metadata": {},
     "output_type": "execute_result"
    },
    {
     "data": {
      "image/png": "[encoded data removed]",
      "text/plain": [
       "<Figure size 432x288 with 1 Axes>"
      ]
     },
     "metadata": {},
     "output_type": "display_data"
    }
   ],
   "source": [
    "df['Analysis'].value_counts().plot(kind='pie')"
   ]
  },
  {
   "cell_type": "code",
   "execution_count": null,
   "metadata": {},
   "outputs": [],
   "source": []
  },
  {
   "cell_type": "code",
   "execution_count": null,
   "metadata": {},
   "outputs": [],
   "source": []
  }
 ],
 "metadata": {
  "kernelspec": {
   "display_name": "venv",
   "language": "python",
   "name": "venv"
  },
  "language_info": {
   "codemirror_mode": {
    "name": "ipython",
    "version": 3
   },
   "file_extension": ".py",
   "mimetype": "text/x-python",
   "name": "python",
   "nbconvert_exporter": "python",
   "pygments_lexer": "ipython3",
   "version": "3.8.2"
  }
 },
 "nbformat": 4,
 "nbformat_minor": 4
}
